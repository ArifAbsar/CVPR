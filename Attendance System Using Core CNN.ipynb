{
 "cells": [
  {
   "cell_type": "code",
   "execution_count": 1,
   "id": "02166617",
   "metadata": {
    "dotnet_interactive": {
     "language": "csharp"
    },
    "polyglot_notebook": {
     "kernelName": "csharp"
    }
   },
   "outputs": [
    {
     "name": "stdout",
     "output_type": "stream",
     "text": [
      "Error: Could not access the webcam.\n"
     ]
    },
    {
     "ename": "",
     "evalue": "",
     "output_type": "error",
     "traceback": [
      "\u001b[1;31mThe Kernel crashed while executing code in the current cell or a previous cell. \n",
      "\u001b[1;31mPlease review the code in the cell(s) to identify a possible cause of the failure. \n",
      "\u001b[1;31mClick <a href='https://aka.ms/vscodeJupyterKernelCrash'>here</a> for more info. \n",
      "\u001b[1;31mView Jupyter <a href='command:jupyter.viewOutput'>log</a> for further details."
     ]
    }
   ],
   "source": [
    "import cv2\n",
    "import os\n",
    "\n",
    "face_cascade = cv2.CascadeClassifier(cv2.data.haarcascades + 'haarcascade_frontalface_default.xml')\n",
    "\n",
    "\n",
    "base_dir = './dataset'\n",
    "os.makedirs(base_dir, exist_ok=True)\n",
    "\n",
    "\n",
    "cap = cv2.VideoCapture(0)\n",
    "if not cap.isOpened():\n",
    "    print(\"Error: Could not access the webcam.\")\n",
    "    exit()\n",
    "\n",
    "while True:\n",
    "    \n",
    "    person = input(\"Enter the name of the person (or type 'done' to finish): \").strip()\n",
    "    if person.lower() == 'done':\n",
    "        print(\"Dataset collection complete!\")\n",
    "        break\n",
    "\n",
    "    \n",
    "    person_dir = os.path.join(base_dir, person)\n",
    "    if os.path.exists(person_dir):\n",
    "        print(f\"Images for {person} already exist. Skipping...\")\n",
    "        continue\n",
    "    os.makedirs(person_dir, exist_ok=True)\n",
    "\n",
    "    print(f\"Collecting images for {person}. Press 'q' to quit.\")\n",
    "    count = 0\n",
    "\n",
    "    while count < 100:\n",
    "        ret, frame = cap.read()\n",
    "        if not ret:\n",
    "            print(\"Error: Could not read frame from webcam.\")\n",
    "            break\n",
    "\n",
    "        # Convert to grayscale for Haar Cascade\n",
    "        gray = cv2.cvtColor(frame, cv2.COLOR_BGR2GRAY)\n",
    "\n",
    "    \n",
    "        faces = face_cascade.detectMultiScale(gray, scaleFactor=1.1, minNeighbors=5, minSize=(50, 50))\n",
    "\n",
    "        for (x, y, w, h) in faces:\n",
    "            \n",
    "            padding = 10\n",
    "            x1, y1 = max(0, x - padding), max(0, y - padding)\n",
    "            x2, y2 = min(frame.shape[1], x + w + padding), min(frame.shape[0], y + h + padding)\n",
    "            face_roi = frame[y1:y2, x1:x2]\n",
    "\n",
    "            # Save the cropped face image\n",
    "            img_path = os.path.join(person_dir, f\"{person}_{count}.jpg\")\n",
    "            cv2.imwrite(img_path, face_roi)\n",
    "            count += 1\n",
    "            print(f\"Captured {count}/100 for {person}\")\n",
    "\n",
    "            if count >= 100:\n",
    "                break\n",
    "\n",
    "        # Display the video feed\n",
    "        cv2.imshow(\"Capture - Press 'q' to Quit\", frame)\n",
    "\n",
    "        # Break loop if 'q' is pressed\n",
    "        if cv2.waitKey(1) & 0xFF == ord('q'):\n",
    "            print(f\"Stopped capturing for {person}.\")\n",
    "            break\n",
    "\n",
    "cap.release()\n",
    "cv2.destroyAllWindows()\n"
   ]
  },
  {
   "cell_type": "code",
   "execution_count": null,
   "id": "242a4240",
   "metadata": {
    "dotnet_interactive": {
     "language": "csharp"
    },
    "polyglot_notebook": {
     "kernelName": "csharp"
    }
   },
   "outputs": [],
   "source": [
    "import cv2\n",
    "import os\n",
    "import numpy as np\n",
    "from sklearn.model_selection import train_test_split\n",
    "from torch import to_categorical\n",
    "\n",
    "\n",
    "IMG_SIZE = 128  # Resize images to 128x128\n",
    "DATA_DIR = './dataset'\n",
    "\n",
    "# Automatically get folder names as labels\n",
    "persons = [name for name in os.listdir(DATA_DIR) if os.path.isdir(os.path.join(DATA_DIR, name))]\n",
    "labels = {name: i for i, name in enumerate(persons)}  # Assign labels to persons\n",
    "\n",
    "# Load and preprocess images\n",
    "X, y = [], []\n",
    "for person in persons:\n",
    "    folder = os.path.join(DATA_DIR, person)\n",
    "    for img_name in os.listdir(folder):\n",
    "        img_path = os.path.join(folder, img_name)\n",
    "        try:\n",
    "            img = cv2.imread(img_path)\n",
    "            if img is not None:\n",
    "                img = cv2.resize(img, (IMG_SIZE, IMG_SIZE))\n",
    "                X.append(img)\n",
    "                y.append(labels[person])\n",
    "        except Exception as e:\n",
    "            print(f\"Error processing image {img_path}: {e}\")\n",
    "\n",
    "X = np.array(X) / 255.0  # Normalize pixel values to [0, 1]\n",
    "y = np.array(y)\n",
    "\n",
    "if len(X) == 0:\n",
    "    print(\"No valid data found. Exiting...\")\n",
    "    exit()\n",
    "\n",
    "# Split into training and validation sets\n",
    "X_train, X_val, y_train, y_val = train_test_split(X, y, test_size=0.2, random_state=42)\n",
    "y_train = to_categorical(y_train, num_classes=len(persons))\n",
    "y_val = to_categorical(y_val, num_classes=len(persons))\n",
    "\n",
    "print(\"Dataset preprocessed successfully!\")\n"
   ]
  },
  {
   "cell_type": "code",
   "execution_count": null,
   "id": "610f621b",
   "metadata": {
    "dotnet_interactive": {
     "language": "csharp"
    },
    "polyglot_notebook": {
     "kernelName": "csharp"
    }
   },
   "outputs": [],
   "source": [
    "from tensorflow.keras.models import Sequential\n",
    "from tensorflow.keras.layers import Conv2D, MaxPooling2D, Flatten, Dense, Dropout\n",
    "\n",
    "# Build CNN model\n",
    "model = Sequential([\n",
    "    Conv2D(32, (3, 3), activation='relu', input_shape=(IMG_SIZE, IMG_SIZE, 3)),\n",
    "    MaxPooling2D((2, 2)),\n",
    "    Conv2D(64, (3, 3), activation='relu'),\n",
    "    MaxPooling2D((2, 2)),\n",
    "    Conv2D(128, (3, 3), activation='relu'),\n",
    "    MaxPooling2D((2, 2)),\n",
    "    Flatten(),\n",
    "    Dense(128, activation='relu'),\n",
    "    Dropout(0.5),\n",
    "    Dense(len(persons), activation='softmax')  # Output layer\n",
    "])\n",
    "\n",
    "model.compile(optimizer='adam', loss='categorical_crossentropy', metrics=['accuracy'])\n",
    "\n",
    "# Train the model\n",
    "history = model.fit(X_train, y_train, epochs=10, validation_data=(X_val, y_val), batch_size=16)\n",
    "\n",
    "# Save the trained model\n",
    "model.save('attendance_cnn_model.h5')\n",
    "print(\"Model trained and saved successfully!\")\n"
   ]
  },
  {
   "cell_type": "code",
   "execution_count": null,
   "id": "db397530",
   "metadata": {
    "dotnet_interactive": {
     "language": "csharp"
    },
    "polyglot_notebook": {
     "kernelName": "csharp"
    }
   },
   "outputs": [],
   "source": [
    "from tensorflow.keras.models import load_model\n",
    "\n",
    "# Load trained model\n",
    "model = load_model('attendance_cnn_model.h5')\n",
    "\n",
    "# Start webcam\n",
    "cap = cv2.VideoCapture(0)\n",
    "while True:\n",
    "    ret, frame = cap.read()\n",
    "    if not ret:\n",
    "        break\n",
    "\n",
    "    # Preprocess the frame\n",
    "    img = cv2.resize(frame, (IMG_SIZE, IMG_SIZE))\n",
    "    img = np.expand_dims(img, axis=0) / 255.0\n",
    "\n",
    "    # Predict the person\n",
    "    predictions = model.predict(img)\n",
    "    person_index = np.argmax(predictions)\n",
    "    confidence = np.max(predictions)\n",
    "\n",
    "    if confidence > 0.7:\n",
    "        label = list(labels.keys())[person_index]\n",
    "    else:\n",
    "        label = \"Unidentified\"\n",
    "\n",
    "    # Display result\n",
    "    cv2.putText(frame, label, (50, 50), cv2.FONT_HERSHEY_SIMPLEX, 1, (0, 255, 0), 2)\n",
    "    cv2.imshow(\"Attendance System\", frame)\n",
    "\n",
    "    if cv2.waitKey(1) & 0xFF == ord('q'):  # Press 'q' to exit\n",
    "        break\n",
    "\n",
    "cap.release()\n",
    "cv2.destroyAllWindows()\n"
   ]
  }
 ],
 "metadata": {
  "kernelspec": {
   "display_name": ".venv",
   "language": "python",
   "name": "python3"
  },
  "language_info": {
   "codemirror_mode": {
    "name": "ipython",
    "version": 3
   },
   "file_extension": ".py",
   "mimetype": "text/x-python",
   "name": "python",
   "nbconvert_exporter": "python",
   "pygments_lexer": "ipython3",
   "version": "3.12.4"
  },
  "polyglot_notebook": {
   "kernelInfo": {
    "defaultKernelName": "csharp",
    "items": [
     {
      "aliases": [],
      "name": "csharp"
     }
    ]
   }
  }
 },
 "nbformat": 4,
 "nbformat_minor": 5
}
